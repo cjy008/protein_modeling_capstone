{
 "cells": [
  {
   "cell_type": "code",
   "execution_count": 1,
   "metadata": {},
   "outputs": [],
   "source": [
    "import pandas as pd"
   ]
  },
  {
   "cell_type": "code",
   "execution_count": 2,
   "metadata": {},
   "outputs": [
    {
     "name": "stdout",
     "output_type": "stream",
     "text": [
      "/Users/ambika/Documents/DSE/Capstone/git/protein_modeling_capstone\r\n"
     ]
    }
   ],
   "source": [
    "!pwd\n"
   ]
  },
  {
   "cell_type": "code",
   "execution_count": 3,
   "metadata": {},
   "outputs": [],
   "source": [
    "labels = []\n",
    "sequences = []"
   ]
  },
  {
   "cell_type": "code",
   "execution_count": 4,
   "metadata": {},
   "outputs": [],
   "source": [
    "f = open(\"data/new_data_label_sequence.txt\", \"r\")\n",
    "for x in f:\n",
    "    \n",
    "    splits = x.split('>')\n",
    "    sequence = splits[1].strip()\n",
    "    label = splits[0][1:]\n",
    "    \n",
    "    labels.append(label)\n",
    "    sequences.append(sequence)"
   ]
  },
  {
   "cell_type": "code",
   "execution_count": 5,
   "metadata": {},
   "outputs": [
    {
     "data": {
      "text/plain": [
       "22168"
      ]
     },
     "execution_count": 5,
     "metadata": {},
     "output_type": "execute_result"
    }
   ],
   "source": [
    "len(sequences)"
   ]
  },
  {
   "cell_type": "code",
   "execution_count": 53,
   "metadata": {},
   "outputs": [
    {
     "data": {
      "text/plain": [
       "382.0"
      ]
     },
     "execution_count": 53,
     "metadata": {},
     "output_type": "execute_result"
    }
   ],
   "source": [
    "import statistics\n",
    "statistics.median(Enzyme_seq_len)"
   ]
  },
  {
   "cell_type": "code",
   "execution_count": 22,
   "metadata": {},
   "outputs": [],
   "source": [
    "Enzyme_seq_len = [len(seq) for seq in sequences]\n",
    "df = pd.DataFrame(Enzyme_seq_len, columns =['Enzymes Length'])"
   ]
  },
  {
   "cell_type": "code",
   "execution_count": 23,
   "metadata": {},
   "outputs": [
    {
     "data": {
      "text/html": [
       "<div>\n",
       "<style scoped>\n",
       "    .dataframe tbody tr th:only-of-type {\n",
       "        vertical-align: middle;\n",
       "    }\n",
       "\n",
       "    .dataframe tbody tr th {\n",
       "        vertical-align: top;\n",
       "    }\n",
       "\n",
       "    .dataframe thead th {\n",
       "        text-align: right;\n",
       "    }\n",
       "</style>\n",
       "<table border=\"1\" class=\"dataframe\">\n",
       "  <thead>\n",
       "    <tr style=\"text-align: right;\">\n",
       "      <th></th>\n",
       "      <th>Enzymes Length</th>\n",
       "    </tr>\n",
       "  </thead>\n",
       "  <tbody>\n",
       "    <tr>\n",
       "      <th>count</th>\n",
       "      <td>22168.000000</td>\n",
       "    </tr>\n",
       "    <tr>\n",
       "      <th>mean</th>\n",
       "      <td>475.113362</td>\n",
       "    </tr>\n",
       "    <tr>\n",
       "      <th>std</th>\n",
       "      <td>351.044768</td>\n",
       "    </tr>\n",
       "    <tr>\n",
       "      <th>min</th>\n",
       "      <td>50.000000</td>\n",
       "    </tr>\n",
       "    <tr>\n",
       "      <th>25%</th>\n",
       "      <td>262.000000</td>\n",
       "    </tr>\n",
       "    <tr>\n",
       "      <th>50%</th>\n",
       "      <td>382.000000</td>\n",
       "    </tr>\n",
       "    <tr>\n",
       "      <th>75%</th>\n",
       "      <td>563.000000</td>\n",
       "    </tr>\n",
       "    <tr>\n",
       "      <th>max</th>\n",
       "      <td>4911.000000</td>\n",
       "    </tr>\n",
       "  </tbody>\n",
       "</table>\n",
       "</div>"
      ],
      "text/plain": [
       "       Enzymes Length\n",
       "count    22168.000000\n",
       "mean       475.113362\n",
       "std        351.044768\n",
       "min         50.000000\n",
       "25%        262.000000\n",
       "50%        382.000000\n",
       "75%        563.000000\n",
       "max       4911.000000"
      ]
     },
     "execution_count": 23,
     "metadata": {},
     "output_type": "execute_result"
    }
   ],
   "source": [
    "df.describe()"
   ]
  },
  {
   "cell_type": "code",
   "execution_count": 24,
   "metadata": {},
   "outputs": [
    {
     "data": {
      "text/plain": [
       "<AxesSubplot:>"
      ]
     },
     "execution_count": 24,
     "metadata": {},
     "output_type": "execute_result"
    },
    {
     "data": {
      "image/png": "[encoded data removed]",
      "text/plain": [
       "<Figure size 432x288 with 1 Axes>"
      ]
     },
     "metadata": {
      "needs_background": "light"
     },
     "output_type": "display_data"
    }
   ],
   "source": [
    "Enzy_len_df.plot()"
   ]
  },
  {
   "cell_type": "code",
   "execution_count": 25,
   "metadata": {},
   "outputs": [
    {
     "data": {
      "text/plain": [
       "<AxesSubplot:ylabel='Frequency'>"
      ]
     },
     "execution_count": 25,
     "metadata": {},
     "output_type": "execute_result"
    },
    {
     "data": {
      "image/png": "[encoded data removed]",
      "text/plain": [
       "<Figure size 432x288 with 1 Axes>"
      ]
     },
     "metadata": {
      "needs_background": "light"
     },
     "output_type": "display_data"
    }
   ],
   "source": [
    "Enzy_len_df.plot(kind = 'hist')"
   ]
  },
  {
   "cell_type": "code",
   "execution_count": 26,
   "metadata": {},
   "outputs": [
    {
     "data": {
      "text/plain": [
       "<AxesSubplot:>"
      ]
     },
     "execution_count": 26,
     "metadata": {},
     "output_type": "execute_result"
    },
    {
     "data": {
      "image/png": "[encoded data removed]",
      "text/plain": [
       "<Figure size 432x288 with 1 Axes>"
      ]
     },
     "metadata": {
      "needs_background": "light"
     },
     "output_type": "display_data"
    }
   ],
   "source": [
    "Enzy_len_df.plot(kind = 'box')"
   ]
  },
  {
   "cell_type": "code",
   "execution_count": 27,
   "metadata": {},
   "outputs": [],
   "source": [
    "\n",
    "labels = []\n",
    "sequences = []\n",
    "f = open(\"data/non_enzyme_new_data_sequence.txt\", \"r\")\n",
    "for x in f:\n",
    "    \n",
    "    splits = x.split('>')\n",
    "    sequence = splits[1].strip()\n",
    "    label = splits[0][1:]\n",
    "    \n",
    "    labels.append(label)\n",
    "    sequences.append(sequence)"
   ]
  },
  {
   "cell_type": "code",
   "execution_count": 28,
   "metadata": {},
   "outputs": [],
   "source": [
    "NonEnzyme_seq_len = [len(seq) for seq in sequences]"
   ]
  },
  {
   "cell_type": "code",
   "execution_count": 29,
   "metadata": {},
   "outputs": [],
   "source": [
    "df['NonEnzymes Length'] = NonEnzyme_seq_len"
   ]
  },
  {
   "cell_type": "code",
   "execution_count": 30,
   "metadata": {},
   "outputs": [
    {
     "data": {
      "text/html": [
       "<div>\n",
       "<style scoped>\n",
       "    .dataframe tbody tr th:only-of-type {\n",
       "        vertical-align: middle;\n",
       "    }\n",
       "\n",
       "    .dataframe tbody tr th {\n",
       "        vertical-align: top;\n",
       "    }\n",
       "\n",
       "    .dataframe thead th {\n",
       "        text-align: right;\n",
       "    }\n",
       "</style>\n",
       "<table border=\"1\" class=\"dataframe\">\n",
       "  <thead>\n",
       "    <tr style=\"text-align: right;\">\n",
       "      <th></th>\n",
       "      <th>Enzymes Length</th>\n",
       "      <th>NonEnzymes Length</th>\n",
       "    </tr>\n",
       "  </thead>\n",
       "  <tbody>\n",
       "    <tr>\n",
       "      <th>count</th>\n",
       "      <td>22168.000000</td>\n",
       "      <td>22168.000000</td>\n",
       "    </tr>\n",
       "    <tr>\n",
       "      <th>mean</th>\n",
       "      <td>475.113362</td>\n",
       "      <td>400.026795</td>\n",
       "    </tr>\n",
       "    <tr>\n",
       "      <th>std</th>\n",
       "      <td>351.044768</td>\n",
       "      <td>396.780837</td>\n",
       "    </tr>\n",
       "    <tr>\n",
       "      <th>min</th>\n",
       "      <td>50.000000</td>\n",
       "      <td>50.000000</td>\n",
       "    </tr>\n",
       "    <tr>\n",
       "      <th>25%</th>\n",
       "      <td>262.000000</td>\n",
       "      <td>156.000000</td>\n",
       "    </tr>\n",
       "    <tr>\n",
       "      <th>50%</th>\n",
       "      <td>382.000000</td>\n",
       "      <td>286.000000</td>\n",
       "    </tr>\n",
       "    <tr>\n",
       "      <th>75%</th>\n",
       "      <td>563.000000</td>\n",
       "      <td>500.000000</td>\n",
       "    </tr>\n",
       "    <tr>\n",
       "      <th>max</th>\n",
       "      <td>4911.000000</td>\n",
       "      <td>4998.000000</td>\n",
       "    </tr>\n",
       "  </tbody>\n",
       "</table>\n",
       "</div>"
      ],
      "text/plain": [
       "       Enzymes Length  NonEnzymes Length\n",
       "count    22168.000000       22168.000000\n",
       "mean       475.113362         400.026795\n",
       "std        351.044768         396.780837\n",
       "min         50.000000          50.000000\n",
       "25%        262.000000         156.000000\n",
       "50%        382.000000         286.000000\n",
       "75%        563.000000         500.000000\n",
       "max       4911.000000        4998.000000"
      ]
     },
     "execution_count": 30,
     "metadata": {},
     "output_type": "execute_result"
    }
   ],
   "source": [
    "df.describe()"
   ]
  },
  {
   "cell_type": "code",
   "execution_count": 31,
   "metadata": {},
   "outputs": [
    {
     "data": {
      "text/plain": [
       "<AxesSubplot:>"
      ]
     },
     "execution_count": 31,
     "metadata": {},
     "output_type": "execute_result"
    },
    {
     "data": {
      "image/png": "[encoded data removed]",
      "text/plain": [
       "<Figure size 432x288 with 1 Axes>"
      ]
     },
     "metadata": {
      "needs_background": "light"
     },
     "output_type": "display_data"
    }
   ],
   "source": [
    "df.plot(kind = 'box')"
   ]
  },
  {
   "cell_type": "code",
   "execution_count": 28,
   "metadata": {},
   "outputs": [
    {
     "data": {
      "text/plain": [
       "<AxesSubplot:ylabel='Frequency'>"
      ]
     },
     "execution_count": 28,
     "metadata": {},
     "output_type": "execute_result"
    },
    {
     "data": {
      "image/png": "[encoded data removed]",
      "text/plain": [
       "<Figure size 432x288 with 1 Axes>"
      ]
     },
     "metadata": {
      "needs_background": "light"
     },
     "output_type": "display_data"
    }
   ],
   "source": [
    "df.plot(kind = 'hist')"
   ]
  },
  {
   "cell_type": "code",
   "execution_count": 80,
   "metadata": {},
   "outputs": [
    {
     "data": {
      "text/plain": [
       "array([<AxesSubplot:title={'center':'NonEnzymes Length'}>], dtype=object)"
      ]
     },
     "execution_count": 80,
     "metadata": {},
     "output_type": "execute_result"
    },
    {
     "data": {
      "image/png": "[encoded data removed]",
      "text/plain": [
       "<Figure size 576x504 with 2 Axes>"
      ]
     },
     "metadata": {
      "needs_background": "light"
     },
     "output_type": "display_data"
    }
   ],
   "source": [
    "import matplotlib.pyplot as plt\n",
    "\n",
    "fig, axes = plt.subplots(1, 2, figsize=(8,7))\n",
    "fig.suptitle(\"Distribution of DEEPre protein sequence lengths of\\n enzymes and non-enzymes\", fontsize=16)\n",
    "\n",
    "\n",
    "df.hist('Enzymes Length', ax=axes[0])\n",
    "df.hist('NonEnzymes Length', ax=axes[1])\n",
    "#plt.t(\"Distribution of protein sequece lengths of enzymes & non-enzymes\")"
   ]
  },
  {
   "cell_type": "code",
   "execution_count": 32,
   "metadata": {},
   "outputs": [
    {
     "data": {
      "text/html": [
       "<div>\n",
       "<style scoped>\n",
       "    .dataframe tbody tr th:only-of-type {\n",
       "        vertical-align: middle;\n",
       "    }\n",
       "\n",
       "    .dataframe tbody tr th {\n",
       "        vertical-align: top;\n",
       "    }\n",
       "\n",
       "    .dataframe thead th {\n",
       "        text-align: right;\n",
       "    }\n",
       "</style>\n",
       "<table border=\"1\" class=\"dataframe\">\n",
       "  <thead>\n",
       "    <tr style=\"text-align: right;\">\n",
       "      <th></th>\n",
       "      <th>EnzymeLength</th>\n",
       "      <th>NonEnzymeLength</th>\n",
       "    </tr>\n",
       "  </thead>\n",
       "  <tbody>\n",
       "    <tr>\n",
       "      <th>count</th>\n",
       "      <td>22168.000000</td>\n",
       "      <td>22168.000000</td>\n",
       "    </tr>\n",
       "    <tr>\n",
       "      <th>mean</th>\n",
       "      <td>475.113362</td>\n",
       "      <td>400.026795</td>\n",
       "    </tr>\n",
       "    <tr>\n",
       "      <th>std</th>\n",
       "      <td>351.044768</td>\n",
       "      <td>396.780837</td>\n",
       "    </tr>\n",
       "    <tr>\n",
       "      <th>min</th>\n",
       "      <td>50.000000</td>\n",
       "      <td>50.000000</td>\n",
       "    </tr>\n",
       "    <tr>\n",
       "      <th>25%</th>\n",
       "      <td>262.000000</td>\n",
       "      <td>156.000000</td>\n",
       "    </tr>\n",
       "    <tr>\n",
       "      <th>50%</th>\n",
       "      <td>382.000000</td>\n",
       "      <td>286.000000</td>\n",
       "    </tr>\n",
       "    <tr>\n",
       "      <th>75%</th>\n",
       "      <td>563.000000</td>\n",
       "      <td>500.000000</td>\n",
       "    </tr>\n",
       "    <tr>\n",
       "      <th>max</th>\n",
       "      <td>4911.000000</td>\n",
       "      <td>4998.000000</td>\n",
       "    </tr>\n",
       "  </tbody>\n",
       "</table>\n",
       "</div>"
      ],
      "text/plain": [
       "       EnzymeLength  NonEnzymeLength\n",
       "count  22168.000000     22168.000000\n",
       "mean     475.113362       400.026795\n",
       "std      351.044768       396.780837\n",
       "min       50.000000        50.000000\n",
       "25%      262.000000       156.000000\n",
       "50%      382.000000       286.000000\n",
       "75%      563.000000       500.000000\n",
       "max     4911.000000      4998.000000"
      ]
     },
     "execution_count": 32,
     "metadata": {},
     "output_type": "execute_result"
    }
   ],
   "source": [
    "df.describe()"
   ]
  },
  {
   "cell_type": "code",
   "execution_count": 59,
   "metadata": {},
   "outputs": [],
   "source": [
    "import json"
   ]
  },
  {
   "cell_type": "code",
   "execution_count": 63,
   "metadata": {},
   "outputs": [],
   "source": [
    "json_file_path = \"/Users/ambika/Documents/DSE/Capstone/git/ECPred.json\""
   ]
  },
  {
   "cell_type": "code",
   "execution_count": 66,
   "metadata": {},
   "outputs": [],
   "source": [
    "with open(json_file_path, 'r') as j:     \n",
    "    Deep = json.loads(j.read())"
   ]
  },
  {
   "cell_type": "code",
   "execution_count": 68,
   "metadata": {},
   "outputs": [],
   "source": [
    "Values = []\n",
    "for key, value in Deep.items():\n",
    "    Values.append(value)"
   ]
  },
  {
   "cell_type": "code",
   "execution_count": 69,
   "metadata": {},
   "outputs": [
    {
     "data": {
      "text/plain": [
       "['MLNNILKIATRQSPLAIWQANYVRNQLLSFYPTLLIELVPIVTSGDLILDKPLMKAGGKRLFIKELEQAMLERRADIAVHSMKDITISFPEGIGLAVLCAREDPRDAFISTHYASIDLLPTGAVVGTSSMRRQCQLRERRPDLVMRDLRGNIGTRLEKLDKGEYDALILAAAGLKRLDLAHRIRMIIDPTELLPAVGQGVIGIEYRLEDTHILSILAPLHHSATALRVSAERAMNAKLAGGCQVPIGSYAEIEGDQIWLRALVGSPDGSLIIRSEGRAPLSQAEILGQSIANDLLYRGAESILCRAFQVDS',\n",
       " 'MQAKILRIATRKSPLAICQACYVCNKLKHYHPHIQTELIPIITTGDTSLHTVSKTNKIKKGAFIKELEYALIEHRADIAVHSMKDVTVLLPKELIIPVLCKRHDPRDAFVSIQYPNIHSLPTGSIIGTSSLRRQCQIRAQRSDLILHDLRGNINTRIKKLHQGQYNAIILAVAGLTRLKLTKYIQTYIDPSELLPAMGQGVIAIECRINDINTISLLSPLYHKETSLCIKSERAVTTYLESYCRLPIASYAEIQNNQIWLRALIGLPDGSIIIRTEGIASLDKAEELGLNLAKDLLIQFKKNTHFDINSIK',\n",
       " 'MAAVERLTIATRASRLALWQAEHVRDLLRARYPACSVELLTLTTRGDQILDRTLSKVGGKGLFVKELETALLDGRADLAVHSLKDVPVDLHAPFELSCVLERADPRDAFVSNDYGSLADLPPGAAVGTSSLRRESQIRARYPHLVVKPLRGNLDTRLGKLDNGDYAAIVLAAAGLERLGLAARIRALLEPADSLPAAGQGALGIEILQGRADVRAMLAPLGDAATLACVTAERAVSRMLGGSCQVPLAAYARIDGDELALRALVAAPDGRRIVRAERRGPRDQAQAIGESAARDLLADGADAILAELLPTSPAP',\n",
       " 'MRNIIVGSRRSKLAMTQTKWVIKKLEELNPDFTFEIKEIVTKGDRILDVTLSKVGGKGLFVKEIEQAMLSGEIDMAVHSMKDMPSVLPEGLMVGCIPKREDARDVLISKGRQKLADLKQGAVVGTSSLRRSAQLLQMRPDLEIKWIRGNIDTRLKKLETEDYDAIILAAAGLSRMGWKDDVVTEFLDPESCLPAVGQGALAIECRGSDEELLSLFSRLNDRYTQLTVTAERAFLHAMEGGCQVPIAGFAKMDEDGVIELTGLVASPDGKTVYRETVKGKDPEAVGRECAAVMSEKGAKALIDRVKQELEDHEA',\n",
       " 'MSVPQRLVIATRASRLALWQAEHVRDRLRALYPACAVELLTLTTRGDQILDRTLSKVGGKGLFVKELETALLDGRADLAVHSLKDVPVDLQAPFELCAILERADPRDAFVSNQYTTLADLPAGAVVGTSSLRRESQIRQRYPHLSVKPLRGNLDTRLSKLDRGDYAAIVLAAAGLQRLGMGERIRSLLEPEDSLPAAGQGALGIEIRNDRNDLREWLAPLACSRTTACVVAERAVSRALGGSCQVPLAAYAELNGNSLALRALVASPDGTRVIRSQHAGPAEQAQAIGQAAAQELLSNGADAILAELQDPPAS',\n",
       " 'MKNKILKIATRKSQLAICQAQYVHNELKHYHPTLSIELMPIVTTGDKFLNIDAKNKIKKGAFIKELEHALINFRADIAVHSMKDITVPLPDELTLPVLCKRNDPRDAFVSLKYPNIDTLPIGSVIGTSSLRRQCQIRAHRPDLVVSNLRGNIDTRLKKLQYGQYDAIVLAVAGLQRLQLHEYIRVHIDPSDLLPAMGQGVIAIECRSNDADILSLLSPLYHQETSFRVRAERAVTTYLESYCHLPIASYAEIEEDQIWLRALIGLPDGSKIIRTEGRAPLDQAEKLGFILAEDLLIKFKR',\n",
       " 'MMRTIKVGSRRSKLAMTQTKWVIQKLKEINPSFAFEIKEIVTKGDRIVDVTLSKVGGKGLFVKEIEQALLNEEIDMAVHSMKDMPAVLPEGLVIGCIPEREDPRDALISKNRVKLSEMKKGAVIGTSSLRRSAQLLIERPDLTIKWIRGNIDTRLQKLETEDYDAIILAAAGLSRMGWKQDVVTEFLEPERCLPAVGQGALAIECRESDEELLALFSQFTDEYTKRTVLAERAFLNAMEGGCQVPIAGYSVLNGQDEIEMTGLVASPDGKIIFKETVTGNDPEEVGKRCAALMADKGAKDLIDRVKRELDEDGK',\n",
       " 'MAAVERLTIATRASRLALWQAEHVRDLLRARYPACSVELLTLTTRGDQILDRTLSKVGGKGLFVKELETALLDGRADLAVHSLKDVPVDLHAPFELSCVLERADPRDAFVSNDYGSLADLPPGAAVGTSSLRRESQIRARYPHLVVKPLRGNLDTRLGKLDNGDYAAIVLAAAGLERLGLAARIRALLEPADSLPAAGQGALGIEILQGRADVRAMLAPLGDAATLACVTAERAVSRMLGGSCQVPLAAYARIDGDELALRALVAAPDGRRIVRAERRGPRDQAQAIGESAARDLLADGADAILAELLPTSPAP',\n",
       " 'MQTASFKNGTLKIGTRGSKLALAQAYLTRRLLQEAHGLPEDAIEILPMSTAGDRIQDRPLSEVGGKGLFTEEIEQALKDGRIDIAVHSTKDMPTALPEGLHLSVFLEREDPRDAFIGRSARRFMDLPQGATVGSSSLRRQALIRRLRPDIEVVMYRGNVDTRLRKLDAGEVDGTFLACAGLRRLGLADVITDVLDPSVFPPAPGQGAIGIESRIGDERIDVLLAPLAHRETQIALACERAFLGALDGSCRTPIAGLATVEGDRLSFRGMILTPDGRQAHEVTAEGVVSDAAALGTDAANRVRAMAGPHFFDGWQ',\n",
       " 'MSGNGNAAAIAEEDTPKMRVIRVGTRKSQLARIQTDSVVATLKALYPGLQFEIIAMSTTGDKILDTALSKIGEKSLFTKELEHALERNEVDLVVHSLKDLPTVLPPGFTIGAVCKRESPYDAVVFHPKFVGKTLETLPEKSVVGTSSLRRAAQLQRKFPHLEFKSIRGNLNTRLRKLDELQEFSAIILATAGLQRMGWQNRVGQILHPEECMYAVGQGALGVEVRAKDQDILDLVGVLHDPETLLRCIAERSFLRHLEGGCSVPVAVHTAIKDGQLYLTGGVWSLNGAETMQDTMQTTIHVPVQHEDGPEDDPQLVGITARNIPRQPQLAAENLGISLATLLLNKGAKNILDVARQLNEAH']"
      ]
     },
     "execution_count": 69,
     "metadata": {},
     "output_type": "execute_result"
    }
   ],
   "source": [
    "Values[:10]"
   ]
  },
  {
   "cell_type": "code",
   "execution_count": 73,
   "metadata": {},
   "outputs": [],
   "source": [
    "EC_Enzyme_seq_len = [len(seq) for seq in Values]\n",
    "df_EC = pd.DataFrame(EC_Enzyme_seq_len, columns =['ECPred Enzymes Length'])"
   ]
  },
  {
   "cell_type": "code",
   "execution_count": 74,
   "metadata": {},
   "outputs": [
    {
     "data": {
      "text/html": [
       "<div>\n",
       "<style scoped>\n",
       "    .dataframe tbody tr th:only-of-type {\n",
       "        vertical-align: middle;\n",
       "    }\n",
       "\n",
       "    .dataframe tbody tr th {\n",
       "        vertical-align: top;\n",
       "    }\n",
       "\n",
       "    .dataframe thead th {\n",
       "        text-align: right;\n",
       "    }\n",
       "</style>\n",
       "<table border=\"1\" class=\"dataframe\">\n",
       "  <thead>\n",
       "    <tr style=\"text-align: right;\">\n",
       "      <th></th>\n",
       "      <th>ECPred Enzymes Length</th>\n",
       "    </tr>\n",
       "  </thead>\n",
       "  <tbody>\n",
       "    <tr>\n",
       "      <th>count</th>\n",
       "      <td>253461.000000</td>\n",
       "    </tr>\n",
       "    <tr>\n",
       "      <th>mean</th>\n",
       "      <td>399.764788</td>\n",
       "    </tr>\n",
       "    <tr>\n",
       "      <th>std</th>\n",
       "      <td>283.988684</td>\n",
       "    </tr>\n",
       "    <tr>\n",
       "      <th>min</th>\n",
       "      <td>4.000000</td>\n",
       "    </tr>\n",
       "    <tr>\n",
       "      <th>25%</th>\n",
       "      <td>247.000000</td>\n",
       "    </tr>\n",
       "    <tr>\n",
       "      <th>50%</th>\n",
       "      <td>346.000000</td>\n",
       "    </tr>\n",
       "    <tr>\n",
       "      <th>75%</th>\n",
       "      <td>472.000000</td>\n",
       "    </tr>\n",
       "    <tr>\n",
       "      <th>max</th>\n",
       "      <td>35213.000000</td>\n",
       "    </tr>\n",
       "  </tbody>\n",
       "</table>\n",
       "</div>"
      ],
      "text/plain": [
       "       ECPred Enzymes Length\n",
       "count          253461.000000\n",
       "mean              399.764788\n",
       "std               283.988684\n",
       "min                 4.000000\n",
       "25%               247.000000\n",
       "50%               346.000000\n",
       "75%               472.000000\n",
       "max             35213.000000"
      ]
     },
     "execution_count": 74,
     "metadata": {},
     "output_type": "execute_result"
    }
   ],
   "source": [
    "df_EC.describe()"
   ]
  },
  {
   "cell_type": "code",
   "execution_count": 75,
   "metadata": {},
   "outputs": [
    {
     "data": {
      "text/plain": [
       "<AxesSubplot:ylabel='Frequency'>"
      ]
     },
     "execution_count": 75,
     "metadata": {},
     "output_type": "execute_result"
    },
    {
     "data": {
      "image/png": "[encoded data removed]",
      "text/plain": [
       "<Figure size 432x288 with 1 Axes>"
      ]
     },
     "metadata": {
      "needs_background": "light"
     },
     "output_type": "display_data"
    }
   ],
   "source": [
    "df_EC.plot(kind = 'hist', color = 'orange')"
   ]
  },
  {
   "cell_type": "code",
   "execution_count": 76,
   "metadata": {},
   "outputs": [
    {
     "data": {
      "text/plain": [
       "<AxesSubplot:>"
      ]
     },
     "execution_count": 76,
     "metadata": {},
     "output_type": "execute_result"
    },
    {
     "data": {
      "image/png": "[encoded data removed]",
      "text/plain": [
       "<Figure size 432x288 with 1 Axes>"
      ]
     },
     "metadata": {
      "needs_background": "light"
     },
     "output_type": "display_data"
    }
   ],
   "source": [
    "df_EC.plot(kind = 'box', color = 'orange')"
   ]
  },
  {
   "cell_type": "code",
   "execution_count": 79,
   "metadata": {},
   "outputs": [
    {
     "data": {
      "text/plain": [
       "<AxesSubplot:>"
      ]
     },
     "execution_count": 79,
     "metadata": {},
     "output_type": "execute_result"
    },
    {
     "data": {
      "image/png": "[encoded data removed]",
      "text/plain": [
       "<Figure size 576x504 with 2 Axes>"
      ]
     },
     "metadata": {
      "needs_background": "light"
     },
     "output_type": "display_data"
    }
   ],
   "source": [
    "import matplotlib.pyplot as plt\n",
    "\n",
    "fig, axes = plt.subplots(1, 2, figsize=(8,7))\n",
    "fig.suptitle(\"Distribution of ECPred protein sequence lengths\", fontsize=16)\n",
    "\n",
    "\n",
    "df_EC.hist('ECPred Enzymes Length', ax=axes[0], color = 'orange')\n",
    "df_EC.boxplot('ECPred Enzymes Length', ax=axes[1])"
   ]
  },
  {
   "cell_type": "code",
   "execution_count": null,
   "metadata": {},
   "outputs": [],
   "source": []
  }
 ],
 "metadata": {
  "kernelspec": {
   "display_name": "Python 3",
   "language": "python",
   "name": "python3"
  },
  "language_info": {
   "codemirror_mode": {
    "name": "ipython",
    "version": 3
   },
   "file_extension": ".py",
   "mimetype": "text/x-python",
   "name": "python",
   "nbconvert_exporter": "python",
   "pygments_lexer": "ipython3",
   "version": "3.7.4"
  }
 },
 "nbformat": 4,
 "nbformat_minor": 4
}
