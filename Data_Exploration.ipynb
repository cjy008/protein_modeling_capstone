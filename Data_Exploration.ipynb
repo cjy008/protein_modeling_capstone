{
 "cells": [
  {
   "cell_type": "code",
   "execution_count": 31,
   "metadata": {},
   "outputs": [
    {
     "name": "stdout",
     "output_type": "stream",
     "text": [
      "Requirement already satisfied: matplotlib-venn in /Users/xiaotao/anaconda3/lib/python3.7/site-packages (0.11.6)\n",
      "Requirement already satisfied: numpy in /Users/xiaotao/anaconda3/lib/python3.7/site-packages (from matplotlib-venn) (1.16.5)\n",
      "Requirement already satisfied: matplotlib in /Users/xiaotao/anaconda3/lib/python3.7/site-packages (from matplotlib-venn) (3.1.1)\n",
      "Requirement already satisfied: scipy in /Users/xiaotao/anaconda3/lib/python3.7/site-packages (from matplotlib-venn) (1.3.1)\n",
      "Requirement already satisfied: cycler>=0.10 in /Users/xiaotao/anaconda3/lib/python3.7/site-packages (from matplotlib->matplotlib-venn) (0.10.0)\n",
      "Requirement already satisfied: kiwisolver>=1.0.1 in /Users/xiaotao/anaconda3/lib/python3.7/site-packages (from matplotlib->matplotlib-venn) (1.1.0)\n",
      "Requirement already satisfied: pyparsing!=2.0.4,!=2.1.2,!=2.1.6,>=2.0.1 in /Users/xiaotao/anaconda3/lib/python3.7/site-packages (from matplotlib->matplotlib-venn) (2.4.2)\n",
      "Requirement already satisfied: python-dateutil>=2.1 in /Users/xiaotao/.local/lib/python3.7/site-packages (from matplotlib->matplotlib-venn) (2.8.1)\n",
      "Requirement already satisfied: six in /Users/xiaotao/.local/lib/python3.7/site-packages (from cycler>=0.10->matplotlib->matplotlib-venn) (1.15.0)\n",
      "Requirement already satisfied: setuptools in /Users/xiaotao/.local/lib/python3.7/site-packages (from kiwisolver>=1.0.1->matplotlib->matplotlib-venn) (50.3.2)\n"
     ]
    }
   ],
   "source": [
    "!pip install matplotlib-venn"
   ]
  },
  {
   "cell_type": "code",
   "execution_count": 32,
   "metadata": {},
   "outputs": [],
   "source": [
    "#Import libraries\n",
    "from matplotlib_venn import venn2, venn2_circles, venn2_unweighted\n",
    "from matplotlib_venn import venn3, venn3_circles\n",
    "from matplotlib import pyplot as plt\n",
    "%matplotlib inline"
   ]
  },
  {
   "cell_type": "code",
   "execution_count": 4,
   "metadata": {},
   "outputs": [],
   "source": [
    "from nltk.util import ngrams"
   ]
  },
  {
   "cell_type": "code",
   "execution_count": 51,
   "metadata": {},
   "outputs": [],
   "source": [
    "nonenzyme_file = \"./data/non_enzyme_new_data_sequence.txt\"\n",
    "enzyme_file = \"./data/new_data_label_sequence.txt\"\n",
    "ngram_size = 7"
   ]
  },
  {
   "cell_type": "code",
   "execution_count": 52,
   "metadata": {},
   "outputs": [],
   "source": [
    "nonenzyme_sequences = []\n",
    "enzyme_sequences = []"
   ]
  },
  {
   "cell_type": "code",
   "execution_count": 53,
   "metadata": {},
   "outputs": [],
   "source": [
    "with open(nonenzyme_file) as inputfile:\n",
    "    for line in inputfile:\n",
    "        sequence = line.split('>')[1]\n",
    "        nonenzyme_sequences.append(sequence)"
   ]
  },
  {
   "cell_type": "code",
   "execution_count": 54,
   "metadata": {},
   "outputs": [],
   "source": [
    "with open(enzyme_file) as inputfile:\n",
    "    for line in inputfile:\n",
    "        sequence = line.split('>')[1]\n",
    "        enzyme_sequences.append(sequence)"
   ]
  },
  {
   "cell_type": "code",
   "execution_count": 55,
   "metadata": {},
   "outputs": [],
   "source": [
    "nonenzyme_ngrams = []"
   ]
  },
  {
   "cell_type": "code",
   "execution_count": 56,
   "metadata": {},
   "outputs": [],
   "source": [
    "for nes in nonenzyme_sequences:\n",
    "    output = list(ngrams(nes, ngram_size))\n",
    "    for x in output:\n",
    "        ngram = ''.join(x)\n",
    "        nonenzyme_ngrams.append(ngram)"
   ]
  },
  {
   "cell_type": "code",
   "execution_count": 57,
   "metadata": {},
   "outputs": [],
   "source": [
    "enzyme_ngrams = []"
   ]
  },
  {
   "cell_type": "code",
   "execution_count": 58,
   "metadata": {},
   "outputs": [],
   "source": [
    "for es in enzyme_sequences:\n",
    "    output = list(ngrams(es, ngram_size))\n",
    "    for x in output:\n",
    "        ngram = ''.join(x)\n",
    "        enzyme_ngrams.append(ngram)"
   ]
  },
  {
   "cell_type": "code",
   "execution_count": 59,
   "metadata": {},
   "outputs": [
    {
     "data": {
      "text/plain": [
       "(8756954, 10421473)"
      ]
     },
     "execution_count": 59,
     "metadata": {},
     "output_type": "execute_result"
    }
   ],
   "source": [
    "len(nonenzyme_ngrams), len(enzyme_ngrams)"
   ]
  },
  {
   "cell_type": "code",
   "execution_count": 60,
   "metadata": {},
   "outputs": [],
   "source": [
    "in_nonenzymes_only = list(set(nonenzyme_ngrams) - set(enzyme_ngrams))"
   ]
  },
  {
   "cell_type": "code",
   "execution_count": 61,
   "metadata": {},
   "outputs": [
    {
     "data": {
      "text/plain": [
       "8069785"
      ]
     },
     "execution_count": 61,
     "metadata": {},
     "output_type": "execute_result"
    }
   ],
   "source": [
    "len(in_nonenzymes_only)"
   ]
  },
  {
   "cell_type": "code",
   "execution_count": 62,
   "metadata": {},
   "outputs": [],
   "source": [
    "in_enzymes_only = list(set(enzyme_ngrams) - set(nonenzyme_ngrams))"
   ]
  },
  {
   "cell_type": "code",
   "execution_count": 63,
   "metadata": {},
   "outputs": [
    {
     "data": {
      "text/plain": [
       "9487753"
      ]
     },
     "execution_count": 63,
     "metadata": {},
     "output_type": "execute_result"
    }
   ],
   "source": [
    "len(in_enzymes_only)"
   ]
  },
  {
   "cell_type": "code",
   "execution_count": 64,
   "metadata": {},
   "outputs": [],
   "source": [
    "in_both = list(set(nonenzyme_ngrams) - set(in_nonenzymes_only))"
   ]
  },
  {
   "cell_type": "code",
   "execution_count": 65,
   "metadata": {},
   "outputs": [],
   "source": [
    "in_both1 = list(set(enzyme_ngrams) - set(in_enzymes_only))"
   ]
  },
  {
   "cell_type": "code",
   "execution_count": 66,
   "metadata": {},
   "outputs": [
    {
     "data": {
      "text/plain": [
       "<matplotlib_venn._common.VennDiagram at 0x7f92f2181410>"
      ]
     },
     "execution_count": 66,
     "metadata": {},
     "output_type": "execute_result"
    },
    {
     "data": {
      "image/png": "[encoded data removed]",
      "text/plain": [
       "<Figure size 432x288 with 1 Axes>"
      ]
     },
     "metadata": {},
     "output_type": "display_data"
    }
   ],
   "source": [
    "venn2([set(nonenzyme_ngrams), set(enzyme_ngrams)], set_labels = ('Non-enzymes', 'Enzymes'))"
   ]
  },
  {
   "cell_type": "code",
   "execution_count": null,
   "metadata": {},
   "outputs": [],
   "source": []
  }
 ],
 "metadata": {
  "kernelspec": {
   "display_name": "Python 3",
   "language": "python",
   "name": "python3"
  },
  "language_info": {
   "codemirror_mode": {
    "name": "ipython",
    "version": 3
   },
   "file_extension": ".py",
   "mimetype": "text/x-python",
   "name": "python",
   "nbconvert_exporter": "python",
   "pygments_lexer": "ipython3",
   "version": "3.7.4"
  }
 },
 "nbformat": 4,
 "nbformat_minor": 2
}
