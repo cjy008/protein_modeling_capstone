{
 "cells": [
  {
   "cell_type": "code",
   "execution_count": null,
   "id": "stunning-press",
   "metadata": {},
   "outputs": [],
   "source": [
    "# !jupyter notebook --NotebookApp.iopub_data_rate_limit=10000000"
   ]
  },
  {
   "cell_type": "code",
   "execution_count": null,
   "id": "conservative-chicken",
   "metadata": {
    "scrolled": false
   },
   "outputs": [],
   "source": [
    "from urllib.request import urlopen\n",
    "\n",
    "url = \"http://www.tcdb.org/public/tcdb\"\n",
    "response = urlopen(url)\n",
    "fasta = response.read().decode(\"utf-8\", \"ignore\")\n",
    "\n",
    "print(fasta)"
   ]
  },
  {
   "cell_type": "code",
   "execution_count": null,
   "id": "superior-parker",
   "metadata": {},
   "outputs": [],
   "source": [
    "with open(fasta) as fasta_file:  # Will close handle cleanly\n",
    "    identifiers = []\n",
    "    lengths = []\n",
    "    for seq_record in SeqIO.parse(fasta_file, 'fasta'):  # (generator)\n",
    "#         identifiers.append(seq_record.id)\n",
    "        print(identifiers)\n",
    "#         lengths.append(seq_record.seq)\n",
    "        print(seq_record)\n",
    "    \n"
   ]
  },
  {
   "cell_type": "code",
   "execution_count": null,
   "id": "decimal-palmer",
   "metadata": {
    "scrolled": false
   },
   "outputs": [],
   "source": [
    "for record in SeqIO.parse(fasta, \"fasta\"):\n",
    "    print(record.id)"
   ]
  },
  {
   "cell_type": "code",
   "execution_count": null,
   "id": "european-termination",
   "metadata": {},
   "outputs": [],
   "source": []
  }
 ],
 "metadata": {
  "kernelspec": {
   "display_name": "Python_3_7",
   "language": "python",
   "name": "python_3_7"
  },
  "language_info": {
   "codemirror_mode": {
    "name": "ipython",
    "version": 3
   },
   "file_extension": ".py",
   "mimetype": "text/x-python",
   "name": "python",
   "nbconvert_exporter": "python",
   "pygments_lexer": "ipython3",
   "version": "3.8.3"
  }
 },
 "nbformat": 4,
 "nbformat_minor": 5
}
