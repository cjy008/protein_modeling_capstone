{
 "cells": [
  {
   "cell_type": "code",
   "execution_count": 8,
   "metadata": {},
   "outputs": [],
   "source": [
    "from urllib.request import urlopen\n",
    "\n",
    "url = \"http://www.tcdb.org/public/tcdb\"\n",
    "response = urlopen(url)\n",
    "fasta = response.read().decode(\"utf-8\", \"ignore\")\n",
    "\n"
   ]
  },
  {
   "cell_type": "code",
   "execution_count": 9,
   "metadata": {},
   "outputs": [],
   "source": [
    "lines = fasta.split('>')"
   ]
  },
  {
   "cell_type": "code",
   "execution_count": 12,
   "metadata": {},
   "outputs": [],
   "source": [
    "lines = lines[1:]"
   ]
  },
  {
   "cell_type": "code",
   "execution_count": 23,
   "metadata": {},
   "outputs": [],
   "source": [
    "sequences = []\n",
    "classes = []"
   ]
  },
  {
   "cell_type": "code",
   "execution_count": 24,
   "metadata": {},
   "outputs": [],
   "source": [
    "i = 0\n",
    "for line in lines:\n",
    "    line_splits = line.split('\\n')\n",
    "    first_line = line_splits[0]\n",
    "    second_line = ''.join(line_splits[1:])\n",
    "    \n",
    "    split_first_line = first_line.split(' ')[0].split('|')\n",
    "    \n",
    "    if len(split_first_line) == 4:\n",
    "        classes.append(split_first_line[3])\n",
    "        sequences.append(second_line)\n",
    "    \n",
    "    \n",
    "    "
   ]
  },
  {
   "cell_type": "code",
   "execution_count": 25,
   "metadata": {},
   "outputs": [
    {
     "data": {
      "text/plain": [
       "20975"
      ]
     },
     "execution_count": 25,
     "metadata": {},
     "output_type": "execute_result"
    }
   ],
   "source": [
    "len(classes)"
   ]
  },
  {
   "cell_type": "code",
   "execution_count": 26,
   "metadata": {},
   "outputs": [
    {
     "data": {
      "text/plain": [
       "20975"
      ]
     },
     "execution_count": 26,
     "metadata": {},
     "output_type": "execute_result"
    }
   ],
   "source": [
    "len(sequences)"
   ]
  },
  {
   "cell_type": "code",
   "execution_count": 27,
   "metadata": {},
   "outputs": [],
   "source": [
    "import pandas as pd"
   ]
  },
  {
   "cell_type": "code",
   "execution_count": 28,
   "metadata": {},
   "outputs": [],
   "source": [
    "sequence_df = pd.DataFrame()"
   ]
  },
  {
   "cell_type": "code",
   "execution_count": 29,
   "metadata": {},
   "outputs": [
    {
     "data": {
      "text/plain": [
       "21010"
      ]
     },
     "execution_count": 29,
     "metadata": {},
     "output_type": "execute_result"
    }
   ],
   "source": [
    "len(lines)"
   ]
  },
  {
   "cell_type": "code",
   "execution_count": 30,
   "metadata": {},
   "outputs": [],
   "source": [
    "sequence_df['sequence'] = sequences"
   ]
  },
  {
   "cell_type": "code",
   "execution_count": 31,
   "metadata": {},
   "outputs": [],
   "source": [
    "sequence_df['class'] = classes"
   ]
  },
  {
   "cell_type": "code",
   "execution_count": 32,
   "metadata": {},
   "outputs": [
    {
     "data": {
      "text/html": [
       "<div>\n",
       "<style scoped>\n",
       "    .dataframe tbody tr th:only-of-type {\n",
       "        vertical-align: middle;\n",
       "    }\n",
       "\n",
       "    .dataframe tbody tr th {\n",
       "        vertical-align: top;\n",
       "    }\n",
       "\n",
       "    .dataframe thead th {\n",
       "        text-align: right;\n",
       "    }\n",
       "</style>\n",
       "<table border=\"1\" class=\"dataframe\">\n",
       "  <thead>\n",
       "    <tr style=\"text-align: right;\">\n",
       "      <th></th>\n",
       "      <th>sequence</th>\n",
       "      <th>class</th>\n",
       "    </tr>\n",
       "  </thead>\n",
       "  <tbody>\n",
       "    <tr>\n",
       "      <th>0</th>\n",
       "      <td>MDSIRPATFQIPAAVRELGWAALLLFFVLLSVHEWFSPPGWFGLLA...</td>\n",
       "      <td>4.F.1.1.5</td>\n",
       "    </tr>\n",
       "    <tr>\n",
       "      <th>1</th>\n",
       "      <td>MSPSRTARLYFLLVLDLLFFVLEISIGYAVGSLALVADSFHMLNDV...</td>\n",
       "      <td>2.A.4.2.8</td>\n",
       "    </tr>\n",
       "    <tr>\n",
       "      <th>2</th>\n",
       "      <td>MHFGLNDRPEQVASASHSIFSSDDNKLRLSASLPDTAVTDLRRLGR...</td>\n",
       "      <td>2.A.4.5.2</td>\n",
       "    </tr>\n",
       "    <tr>\n",
       "      <th>3</th>\n",
       "      <td>MFPLSALPRCVALRSKHGNSYLRSVHDKSQGGNFVELSADNDGGVM...</td>\n",
       "      <td>1.C.4.5.2</td>\n",
       "    </tr>\n",
       "    <tr>\n",
       "      <th>4</th>\n",
       "      <td>FGFKDIIRAIRRIAVPVVSTLFPPAAPLAHAIGEGVDYLLGDEAQA</td>\n",
       "      <td>1.A.59.1.2</td>\n",
       "    </tr>\n",
       "    <tr>\n",
       "      <th>...</th>\n",
       "      <td>...</td>\n",
       "      <td>...</td>\n",
       "    </tr>\n",
       "    <tr>\n",
       "      <th>20970</th>\n",
       "      <td>MRFGVVVLAIILLTGCSAMSAISDLLPSKDGIEATAQAGESNQKTG...</td>\n",
       "      <td>1.M.2.1.3</td>\n",
       "    </tr>\n",
       "    <tr>\n",
       "      <th>20971</th>\n",
       "      <td>MISIGLPNILKACLGYIVIVLMDAIWLPFATYMEFYPKLDDTHILF...</td>\n",
       "      <td>9.B.309.1.5</td>\n",
       "    </tr>\n",
       "    <tr>\n",
       "      <th>20972</th>\n",
       "      <td>MKQHCSSILNTLPPHRLMALDVMRGLTITAMILVNNPGSWSAMYWP...</td>\n",
       "      <td>9.B.169.4.5</td>\n",
       "    </tr>\n",
       "    <tr>\n",
       "      <th>20973</th>\n",
       "      <td>MILLTQSRFFSQKARCYITDNKRLFLPLLILIALVVPATRGFTLQA...</td>\n",
       "      <td>2.A.119.3.4</td>\n",
       "    </tr>\n",
       "    <tr>\n",
       "      <th>20974</th>\n",
       "      <td>MRYVRSLLGVGALLVGAGGAAAQPGAFPGAGERAPGGAPSAPVSAP...</td>\n",
       "      <td>1.B.57.2.1</td>\n",
       "    </tr>\n",
       "  </tbody>\n",
       "</table>\n",
       "<p>20975 rows × 2 columns</p>\n",
       "</div>"
      ],
      "text/plain": [
       "                                                sequence        class\n",
       "0      MDSIRPATFQIPAAVRELGWAALLLFFVLLSVHEWFSPPGWFGLLA...    4.F.1.1.5\n",
       "1      MSPSRTARLYFLLVLDLLFFVLEISIGYAVGSLALVADSFHMLNDV...    2.A.4.2.8\n",
       "2      MHFGLNDRPEQVASASHSIFSSDDNKLRLSASLPDTAVTDLRRLGR...    2.A.4.5.2\n",
       "3      MFPLSALPRCVALRSKHGNSYLRSVHDKSQGGNFVELSADNDGGVM...    1.C.4.5.2\n",
       "4         FGFKDIIRAIRRIAVPVVSTLFPPAAPLAHAIGEGVDYLLGDEAQA   1.A.59.1.2\n",
       "...                                                  ...          ...\n",
       "20970  MRFGVVVLAIILLTGCSAMSAISDLLPSKDGIEATAQAGESNQKTG...    1.M.2.1.3\n",
       "20971  MISIGLPNILKACLGYIVIVLMDAIWLPFATYMEFYPKLDDTHILF...  9.B.309.1.5\n",
       "20972  MKQHCSSILNTLPPHRLMALDVMRGLTITAMILVNNPGSWSAMYWP...  9.B.169.4.5\n",
       "20973  MILLTQSRFFSQKARCYITDNKRLFLPLLILIALVVPATRGFTLQA...  2.A.119.3.4\n",
       "20974  MRYVRSLLGVGALLVGAGGAAAQPGAFPGAGERAPGGAPSAPVSAP...   1.B.57.2.1\n",
       "\n",
       "[20975 rows x 2 columns]"
      ]
     },
     "execution_count": 32,
     "metadata": {},
     "output_type": "execute_result"
    }
   ],
   "source": [
    "sequence_df"
   ]
  },
  {
   "cell_type": "code",
   "execution_count": null,
   "metadata": {},
   "outputs": [],
   "source": []
  }
 ],
 "metadata": {
  "kernelspec": {
   "display_name": "Python 3",
   "language": "python",
   "name": "python3"
  },
  "language_info": {
   "codemirror_mode": {
    "name": "ipython",
    "version": 3
   },
   "file_extension": ".py",
   "mimetype": "text/x-python",
   "name": "python",
   "nbconvert_exporter": "python",
   "pygments_lexer": "ipython3",
   "version": "3.7.5"
  }
 },
 "nbformat": 4,
 "nbformat_minor": 2
}
