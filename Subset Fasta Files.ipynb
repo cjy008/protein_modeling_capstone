{
 "cells": [
  {
   "cell_type": "code",
   "execution_count": 2,
   "metadata": {},
   "outputs": [
    {
     "name": "stdout",
     "output_type": "stream",
     "text": [
      "1024_Enzymes.fasta                      Enzymes_SubClass_labels_3000.json\r\n",
      "1024_Enzymes_Class_labels.json          Enzymes_SubClass_labels_4000.json\r\n",
      "1024_Enzymes_SubClass_labels.json       Enzymes_SubClass_labels_5000.json\r\n",
      "1024_NonEnzymes_Enzymes.fasta           Enzymes_SubClass_labels_5000_total.json\r\n",
      "1024_NonEnzymes_Enzymes_labels.json     Enzymes_SubClass_labels_all.json\r\n",
      "ECPred.fasta                            Enzymes_all.fasta\r\n",
      "ESM_NonEnzymesEnzymes.json              NonEnzymes_Enzymes.fasta\r\n",
      "Enzymes.fasta                           NonEnzymes_Enzymes_10000.fasta\r\n",
      "Enzymes_2000.fasta                      NonEnzymes_Enzymes_2000.fasta\r\n",
      "Enzymes_2000_Class_labels.json          NonEnzymes_Enzymes_2000_labels.json\r\n",
      "Enzymes_3000.fasta                      NonEnzymes_Enzymes_3000.fasta\r\n",
      "Enzymes_4000.fasta                      NonEnzymes_Enzymes_4000.fasta\r\n",
      "Enzymes_5000.fasta                      NonEnzymes_Enzymes_5000.fasta\r\n",
      "Enzymes_5000_total.fasta                NonEnzymes_Enzymes_all.fasta\r\n",
      "Enzymes_Class_labels.json               NonEnzymes_Enzymes_labels.json\r\n",
      "Enzymes_Class_labels_3000.json          NonEnzymes_Enzymes_labels_10000.json\r\n",
      "Enzymes_Class_labels_4000.json          NonEnzymes_Enzymes_labels_3000.json\r\n",
      "Enzymes_Class_labels_5000.json          NonEnzymes_Enzymes_labels_4000.json\r\n",
      "Enzymes_Class_labels_5000_total.json    NonEnzymes_Enzymes_labels_5000.json\r\n",
      "Enzymes_Class_labels_all.json           NonEnzymes_Enzymes_labels_all.json\r\n",
      "Enzymes_SubClass_labels.json            \u001b[34mtmp\u001b[m\u001b[m\r\n"
     ]
    }
   ],
   "source": [
    "!ls data/MVP"
   ]
  },
  {
   "cell_type": "code",
   "execution_count": 20,
   "metadata": {},
   "outputs": [
    {
     "name": "stdout",
     "output_type": "stream",
     "text": [
      "Total Files Created:  3292\n"
     ]
    }
   ],
   "source": [
    "lines_per_file = 16 # 8 enzymes per file then\n",
    "smallfile = None\n",
    "file_count = 1\n",
    "with open('./data/MVP/1024_NonEnzymes_Enzymes.fasta') as bigfile:\n",
    "    for lineno, line in enumerate(bigfile):\n",
    "        if lineno % lines_per_file == 0:\n",
    "            if smallfile:\n",
    "                smallfile.close()\n",
    "                file_count += 1\n",
    "            small_filename = 'small_1024_file_{}.fasta'.format(file_count)\n",
    "            smallfile = open(small_filename, \"w\")\n",
    "        smallfile.write(line)\n",
    "    if smallfile:\n",
    "        smallfile.close()\n",
    "        \n",
    "print(\"Total Files Created: \", file_count)"
   ]
  },
  {
   "cell_type": "code",
   "execution_count": 1,
   "metadata": {},
   "outputs": [
    {
     "name": "stdout",
     "output_type": "stream",
     "text": [
      "Total Files Created:  169\n"
     ]
    }
   ],
   "source": [
    "lines_per_file = 3000 # 1500 enzymes per file then\n",
    "smallfile = None\n",
    "file_count = 1\n",
    "with open('./data/MVP/ECPred.fasta') as bigfile:\n",
    "    for lineno, line in enumerate(bigfile):\n",
    "        if lineno % lines_per_file == 0:\n",
    "            if smallfile:\n",
    "                smallfile.close()\n",
    "                file_count += 1\n",
    "            small_filename = 'small_ecpred_file_{}.fasta'.format(file_count)\n",
    "            smallfile = open(small_filename, \"w\")\n",
    "        smallfile.write(line)\n",
    "    if smallfile:\n",
    "        smallfile.close()\n",
    "        \n",
    "print(\"Total Files Created: \", file_count)"
   ]
  },
  {
   "cell_type": "code",
   "execution_count": 9,
   "metadata": {},
   "outputs": [],
   "source": [
    "lines_per_file = 3000 # 1500 enzymes per file then\n",
    "smallfile = None\n",
    "file_count = 1\n",
    "with open('./data/MVP/Enzymes_all.fasta') as bigfile:\n",
    "    for lineno, line in enumerate(bigfile):\n",
    "        if lineno % lines_per_file == 0:\n",
    "            if smallfile:\n",
    "                smallfile.close()\n",
    "                file_count += 1\n",
    "            small_filename = 'small_enzymes_file_{}.fasta'.format(file_count)\n",
    "            smallfile = open(small_filename, \"w\")\n",
    "        smallfile.write(line)\n",
    "    if smallfile:\n",
    "        smallfile.close()\n",
    "\n",
    "print(\"Total Files Created: \", file_count)"
   ]
  },
  {
   "cell_type": "code",
   "execution_count": 10,
   "metadata": {},
   "outputs": [
    {
     "name": "stdout",
     "output_type": "stream",
     "text": [
      "Combining NPZ.ipynb              \u001b[34moutput\u001b[m\u001b[m\r\n",
      "\u001b[34mD3jVisualizations\u001b[m\u001b[m                \u001b[34mpreprocessed_data\u001b[m\u001b[m\r\n",
      "Data_Exploration.ipynb           small_enzymes_file_1.fasta\r\n",
      "DownstreamModelClasses.ipynb     small_enzymes_file_10.fasta\r\n",
      "DownstreamModelTape.ipynb        small_enzymes_file_11.fasta\r\n",
      "\u001b[34mECPredData\u001b[m\u001b[m                       small_enzymes_file_12.fasta\r\n",
      "EDA_AALength.ipynb               small_enzymes_file_13.fasta\r\n",
      "Preprocess enzyme capstone.ipynb small_enzymes_file_14.fasta\r\n",
      "README.md                        small_enzymes_file_15.fasta\r\n",
      "Subset Fasta Files.ipynb         small_enzymes_file_2.fasta\r\n",
      "SubsetEnzymeData.ipynb           small_enzymes_file_3.fasta\r\n",
      "\u001b[34mTransporter Classification Data\u001b[m\u001b[m  small_enzymes_file_4.fasta\r\n",
      "create_enzyme_csv.ipynb          small_enzymes_file_5.fasta\r\n",
      "\u001b[34mdata\u001b[m\u001b[m                             small_enzymes_file_6.fasta\r\n",
      "\u001b[34menvironment\u001b[m\u001b[m                      small_enzymes_file_7.fasta\r\n",
      "enzyme_sequences_5000.txt        small_enzymes_file_8.fasta\r\n",
      "enzymes_5000_total_output.npz    small_enzymes_file_9.fasta\r\n",
      "\u001b[34mesm\u001b[m\u001b[m                              \u001b[34mtape\u001b[m\u001b[m\r\n",
      "new_file.npz                     \u001b[34mtests\u001b[m\u001b[m\r\n"
     ]
    }
   ],
   "source": [
    "!ls"
   ]
  },
  {
   "cell_type": "code",
   "execution_count": null,
   "metadata": {},
   "outputs": [],
   "source": []
  }
 ],
 "metadata": {
  "kernelspec": {
   "display_name": "Python 3",
   "language": "python",
   "name": "python3"
  },
  "language_info": {
   "codemirror_mode": {
    "name": "ipython",
    "version": 3
   },
   "file_extension": ".py",
   "mimetype": "text/x-python",
   "name": "python",
   "nbconvert_exporter": "python",
   "pygments_lexer": "ipython3",
   "version": "3.7.4"
  }
 },
 "nbformat": 4,
 "nbformat_minor": 2
}
